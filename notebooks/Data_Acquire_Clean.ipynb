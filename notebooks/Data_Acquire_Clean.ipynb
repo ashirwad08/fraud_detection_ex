{
 "cells": [
  {
   "cell_type": "markdown",
   "metadata": {},
   "source": [
    "# Description  \n",
    "\n",
    "Every day, *ABC* company's risk division assigns a fraud risk score to all of our payments customers. Our customers are all merchants who accept credit card payments for their business. Some of the applications we receive to process payments are from people trying to commit fraud by pretending to be legitimate merchants. Typically, these fraudulent merchants will use stolen credit cards to funnel money into their account.  \n",
    "\n",
    "The zipped sample data contains a few of the types of data we use in our assessment for fraud.  All of the merchants in the attached files have made mobile credit card payment transactions at least once.  Some of these merchants turned out later to be fraudulent. \n",
    "\n",
    "The zipped file includes three tables from merchants who opened an account between 2013 and July 2015.  For the last 3 weeks of data (July 10, 2015 to July 31, 2015) there is no information regarding whether the merchant was closed for fraud.  For all accounts opened before July 10, information on when the account was closed for fraud is provided.  \n"
   ]
  },
  {
   "cell_type": "code",
   "execution_count": 1,
   "metadata": {
    "collapsed": true
   },
   "outputs": [],
   "source": [
    "import pandas as pd\n",
    "import numpy as np"
   ]
  },
  {
   "cell_type": "code",
   "execution_count": 4,
   "metadata": {
    "collapsed": true
   },
   "outputs": [],
   "source": [
    "app_dat = pd.read_csv('./../data/training exercise data - application.csv')\n",
    "first_txns = pd.read_csv('./../data/training exercise data - first transaction.csv')\n",
    "trgt_dat = pd.read_csv('./../data/training exercise data - fraud target.csv')"
   ]
  },
  {
   "cell_type": "code",
   "execution_count": 17,
   "metadata": {
    "collapsed": false
   },
   "outputs": [
    {
     "data": {
      "text/html": [
       "<div>\n",
       "<table border=\"1\" class=\"dataframe\">\n",
       "  <thead>\n",
       "    <tr style=\"text-align: right;\">\n",
       "      <th></th>\n",
       "      <th>merchantidentifier</th>\n",
       "      <th>IP_Address_organization</th>\n",
       "      <th>IP_Address_Location</th>\n",
       "      <th>Pierced_IP_address_organization</th>\n",
       "      <th>Pierced_IP_address_location</th>\n",
       "      <th>timezone_differencefromGMT_using_application_device</th>\n",
       "      <th>date_account_opened</th>\n",
       "      <th>state_from_application_address</th>\n",
       "      <th>AreaCodeState</th>\n",
       "    </tr>\n",
       "  </thead>\n",
       "  <tbody>\n",
       "    <tr>\n",
       "      <th>1584</th>\n",
       "      <td>33243117</td>\n",
       "      <td>ROAD RUNNER</td>\n",
       "      <td>CALIFORNIA</td>\n",
       "      <td>ROAD RUNNER</td>\n",
       "      <td>CALIFORNIA</td>\n",
       "      <td>480.0</td>\n",
       "      <td>2013-03-13</td>\n",
       "      <td>CA</td>\n",
       "      <td>CA</td>\n",
       "    </tr>\n",
       "    <tr>\n",
       "      <th>87960</th>\n",
       "      <td>44866773</td>\n",
       "      <td>SUDDENLINK COMMUNICATIONS</td>\n",
       "      <td>LOUISIANA</td>\n",
       "      <td>SUDDENLINK COMMUNICATIONS</td>\n",
       "      <td>LOUISIANA</td>\n",
       "      <td>360.0</td>\n",
       "      <td>2014-03-08</td>\n",
       "      <td>LA</td>\n",
       "      <td>LA</td>\n",
       "    </tr>\n",
       "    <tr>\n",
       "      <th>112885</th>\n",
       "      <td>19899755151</td>\n",
       "      <td>AT&amp;T U-VERSE</td>\n",
       "      <td>CALIFORNIA</td>\n",
       "      <td>AT&amp;T U-VERSE</td>\n",
       "      <td>CALIFORNIA</td>\n",
       "      <td>480.0</td>\n",
       "      <td>2015-04-28</td>\n",
       "      <td>CA</td>\n",
       "      <td>CA</td>\n",
       "    </tr>\n",
       "  </tbody>\n",
       "</table>\n",
       "</div>"
      ],
      "text/plain": [
       "        merchantidentifier    IP_Address_organization IP_Address_Location  \\\n",
       "1584              33243117                ROAD RUNNER          CALIFORNIA   \n",
       "87960             44866773  SUDDENLINK COMMUNICATIONS           LOUISIANA   \n",
       "112885         19899755151               AT&T U-VERSE          CALIFORNIA   \n",
       "\n",
       "       Pierced_IP_address_organization Pierced_IP_address_location  \\\n",
       "1584                       ROAD RUNNER                  CALIFORNIA   \n",
       "87960        SUDDENLINK COMMUNICATIONS                   LOUISIANA   \n",
       "112885                    AT&T U-VERSE                  CALIFORNIA   \n",
       "\n",
       "        timezone_differencefromGMT_using_application_device  \\\n",
       "1584                                                480.0     \n",
       "87960                                               360.0     \n",
       "112885                                              480.0     \n",
       "\n",
       "       date_account_opened state_from_application_address AreaCodeState  \n",
       "1584            2013-03-13                             CA            CA  \n",
       "87960           2014-03-08                             LA            LA  \n",
       "112885          2015-04-28                             CA            CA  "
      ]
     },
     "execution_count": 17,
     "metadata": {},
     "output_type": "execute_result"
    }
   ],
   "source": [
    "app_dat.sample(3)"
   ]
  },
  {
   "cell_type": "code",
   "execution_count": 12,
   "metadata": {
    "collapsed": false
   },
   "outputs": [
    {
     "data": {
      "text/html": [
       "<div>\n",
       "<table border=\"1\" class=\"dataframe\">\n",
       "  <thead>\n",
       "    <tr style=\"text-align: right;\">\n",
       "      <th></th>\n",
       "      <th>merchantidentifier</th>\n",
       "      <th>first_transaction_time</th>\n",
       "      <th>first_transaction_amount</th>\n",
       "    </tr>\n",
       "  </thead>\n",
       "  <tbody>\n",
       "    <tr>\n",
       "      <th>44273</th>\n",
       "      <td>36136195</td>\n",
       "      <td>2013-11-14 07:19:58</td>\n",
       "      <td>3.0</td>\n",
       "    </tr>\n",
       "    <tr>\n",
       "      <th>114649</th>\n",
       "      <td>19967450487</td>\n",
       "      <td>2014-09-06 21:34:21</td>\n",
       "      <td>1.0</td>\n",
       "    </tr>\n",
       "    <tr>\n",
       "      <th>118760</th>\n",
       "      <td>19953794909</td>\n",
       "      <td>2015-03-30 09:49:03</td>\n",
       "      <td>50.0</td>\n",
       "    </tr>\n",
       "  </tbody>\n",
       "</table>\n",
       "</div>"
      ],
      "text/plain": [
       "        merchantidentifier first_transaction_time  first_transaction_amount\n",
       "44273             36136195    2013-11-14 07:19:58                       3.0\n",
       "114649         19967450487    2014-09-06 21:34:21                       1.0\n",
       "118760         19953794909    2015-03-30 09:49:03                      50.0"
      ]
     },
     "execution_count": 12,
     "metadata": {},
     "output_type": "execute_result"
    }
   ],
   "source": [
    "first_txns.sample(3)"
   ]
  },
  {
   "cell_type": "code",
   "execution_count": 23,
   "metadata": {
    "collapsed": false
   },
   "outputs": [
    {
     "data": {
      "text/html": [
       "<div>\n",
       "<table border=\"1\" class=\"dataframe\">\n",
       "  <thead>\n",
       "    <tr style=\"text-align: right;\">\n",
       "      <th></th>\n",
       "      <th>merchantidentifier</th>\n",
       "      <th>dateclosedforfraud</th>\n",
       "      <th>Flag_for_data_with_fraud_outcomes</th>\n",
       "    </tr>\n",
       "  </thead>\n",
       "  <tbody>\n",
       "    <tr>\n",
       "      <th>113454</th>\n",
       "      <td>19914568767</td>\n",
       "      <td>NaN</td>\n",
       "      <td>1</td>\n",
       "    </tr>\n",
       "    <tr>\n",
       "      <th>21957</th>\n",
       "      <td>30223171</td>\n",
       "      <td>NaN</td>\n",
       "      <td>1</td>\n",
       "    </tr>\n",
       "    <tr>\n",
       "      <th>65957</th>\n",
       "      <td>19963069691</td>\n",
       "      <td>2015-04-02</td>\n",
       "      <td>1</td>\n",
       "    </tr>\n",
       "  </tbody>\n",
       "</table>\n",
       "</div>"
      ],
      "text/plain": [
       "        merchantidentifier dateclosedforfraud  \\\n",
       "113454         19914568767                NaN   \n",
       "21957             30223171                NaN   \n",
       "65957          19963069691         2015-04-02   \n",
       "\n",
       "        Flag_for_data_with_fraud_outcomes  \n",
       "113454                                  1  \n",
       "21957                                   1  \n",
       "65957                                   1  "
      ]
     },
     "execution_count": 23,
     "metadata": {},
     "output_type": "execute_result"
    }
   ],
   "source": [
    "trgt_dat.sample(3)"
   ]
  },
  {
   "cell_type": "code",
   "execution_count": 20,
   "metadata": {
    "collapsed": false
   },
   "outputs": [
    {
     "data": {
      "text/plain": [
       "((132552, 9), (132552, 3), (132552, 3))"
      ]
     },
     "execution_count": 20,
     "metadata": {},
     "output_type": "execute_result"
    }
   ],
   "source": [
    "(app_dat.shape, first_txns.shape, trgt_dat.shape)"
   ]
  },
  {
   "cell_type": "markdown",
   "metadata": {},
   "source": [
    "# Data Dictionary \n",
    "\n",
    "**Application Data**  \n",
    "* Merchant Identifier: A unique ID that allows you to link between tables.\n",
    "* IP_Address__Organization:  The provider associated with the IP Address.\n",
    "* IP_Address__State:  The state associated with the IP Address.\n",
    "* Pierced_IP_Address__Organization:  Some real and fraudulent merchants have masked IP Address—the “pierced” IP Address Organization is the one associated with the underlying IP which may differ from the one above.   \n",
    "* Pierced_IP_Address__State:  Some real and fraudulent merchants have masked IP Address—the “pierced” IP Address State is the location associated with the underlying IP which may differ from the one above.   \n",
    "* Timezone_differencefromGMT_using_application_device:  This provides the timezone set in the device based on the difference between the device time and Greenwich Mean Time.\n",
    "* Date_account_opened: The date when the account was opened with Intuit.\n",
    "* State_from_application_address:\tThe state provided in the business address by the applicant.\n",
    "* AreaCodeState:  The state associated with the area code provided in the business phone number at time of application.  \n",
    "\n",
    "**First Transaction Data** \n",
    "This table contains data from the first mobile transaction of the merchant including the following:  \n",
    "\n",
    "* Merchant Identifier: A unique ID that allows you to link between tables.\n",
    "* First_Transaction_Time:  The date and time of the first transaction by the merchant (in local transaction time for the merchant’s location).\n",
    "* First_Transaction_Amount:  The dollar amount of the first transactio\n",
    "\n",
    "**Fraud Target Data Table:**  \n",
    "This table contains data on the target you are trying to forecast:  \n",
    "\n",
    "* Merchant Identifier: A unique ID that allows you to link between tables.\n",
    "* Dateclosedforfraud:  This is the date when a merchant was closed for fraud.  If a merchant has a blank or null value here and the flag below has a value of 1, you can assume that the merchant was not closed for fraud.\n",
    "* Flag_for_data_with_fraud_outcomes:  This flag separate merchants with outcomes data from those without outcomes data.  Merchants opened between July 10, 2015 and July 31, 2015 have that flag set to 0 and no fraud data available (remember, this is what you are trying to predict!)  For merchants opened before July 10, the flag is set to 1 and if the merchant was closed for fraud the date is shown."
   ]
  },
  {
   "cell_type": "markdown",
   "metadata": {},
   "source": [
    "# Objective  \n",
    "Your goal is to assess the risk that an account will be closed for fraud within the first 60 days after the account is opened.  Specifically, we want you to identify the 100 merchants opened between July 10, 2015 and July 31, 2015 that you consider to be of greatest risk for being closed for fraud within 60 days of their open date.  \n",
    "\n",
    "---"
   ]
  },
  {
   "cell_type": "markdown",
   "metadata": {},
   "source": [
    "# Data Cleaning  \n",
    "\n",
    "Let's first get all the data in one place. The tables are nicely linked by Merchant Id, and there seems to be a 1-1 correspondence between these, going by the similar number of records in each. Let's *left join* the first transaction data and the fraud target data to the applications table to get all the data in one place. The left join will help preserve all the rows in the applicationt able that might not match (although I suspect this isn't the case)."
   ]
  },
  {
   "cell_type": "code",
   "execution_count": 105,
   "metadata": {
    "collapsed": false
   },
   "outputs": [],
   "source": [
    "dat = app_dat.merge(first_txns, how='left', left_on='merchantidentifier', right_on='merchantidentifier').merge(trgt_dat, how='left', left_on='merchantidentifier', right_on='merchantidentifier')"
   ]
  },
  {
   "cell_type": "code",
   "execution_count": 106,
   "metadata": {
    "collapsed": false
   },
   "outputs": [
    {
     "data": {
      "text/plain": [
       "(132552, 13)"
      ]
     },
     "execution_count": 106,
     "metadata": {},
     "output_type": "execute_result"
    }
   ],
   "source": [
    "dat.shape"
   ]
  },
  {
   "cell_type": "markdown",
   "metadata": {},
   "source": [
    "Looks like a clean join. Let's be sure by counting the number of unique mechant identifiers before and after the joins. It looks like we're okay."
   ]
  },
  {
   "cell_type": "code",
   "execution_count": 107,
   "metadata": {
    "collapsed": false
   },
   "outputs": [
    {
     "data": {
      "text/plain": [
       "(132552, 132552)"
      ]
     },
     "execution_count": 107,
     "metadata": {},
     "output_type": "execute_result"
    }
   ],
   "source": [
    "len(app_dat.merchantidentifier.unique()), len(dat.merchantidentifier.unique())"
   ]
  },
  {
   "cell_type": "code",
   "execution_count": 111,
   "metadata": {
    "collapsed": false
   },
   "outputs": [
    {
     "data": {
      "text/html": [
       "<div>\n",
       "<table border=\"1\" class=\"dataframe\">\n",
       "  <thead>\n",
       "    <tr style=\"text-align: right;\">\n",
       "      <th></th>\n",
       "      <th>merchantidentifier</th>\n",
       "      <th>IP_Address_organization</th>\n",
       "      <th>IP_Address_Location</th>\n",
       "      <th>Pierced_IP_address_organization</th>\n",
       "      <th>Pierced_IP_address_location</th>\n",
       "      <th>timezone_differencefromGMT_using_application_device</th>\n",
       "      <th>date_account_opened</th>\n",
       "      <th>state_from_application_address</th>\n",
       "      <th>AreaCodeState</th>\n",
       "      <th>first_transaction_time</th>\n",
       "      <th>first_transaction_amount</th>\n",
       "      <th>dateclosedforfraud</th>\n",
       "      <th>Flag_for_data_with_fraud_outcomes</th>\n",
       "    </tr>\n",
       "  </thead>\n",
       "  <tbody>\n",
       "    <tr>\n",
       "      <th>71214</th>\n",
       "      <td>19956623321</td>\n",
       "      <td>COX COMMUNICATIONS</td>\n",
       "      <td>VIRGINIA</td>\n",
       "      <td>COX COMMUNICATIONS</td>\n",
       "      <td>VIRGINIA</td>\n",
       "      <td>300.0</td>\n",
       "      <td>2015-06-02</td>\n",
       "      <td>VA</td>\n",
       "      <td>VA</td>\n",
       "      <td>2015-07-10 06:39:21</td>\n",
       "      <td>2525.0</td>\n",
       "      <td>NaN</td>\n",
       "      <td>1</td>\n",
       "    </tr>\n",
       "    <tr>\n",
       "      <th>97977</th>\n",
       "      <td>19898491053</td>\n",
       "      <td>CHARTER COMMUNICATIONS</td>\n",
       "      <td>MICHIGAN</td>\n",
       "      <td>CHARTER COMMUNICATIONS</td>\n",
       "      <td>MICHIGAN</td>\n",
       "      <td>300.0</td>\n",
       "      <td>2014-06-06</td>\n",
       "      <td>MI</td>\n",
       "      <td>MI</td>\n",
       "      <td>2014-06-24 08:57:11</td>\n",
       "      <td>35.0</td>\n",
       "      <td>NaN</td>\n",
       "      <td>1</td>\n",
       "    </tr>\n",
       "    <tr>\n",
       "      <th>96598</th>\n",
       "      <td>19833253333</td>\n",
       "      <td>CHARTER COMMUNICATIONS</td>\n",
       "      <td>CALIFORNIA</td>\n",
       "      <td>CHARTER COMMUNICATIONS</td>\n",
       "      <td>CALIFORNIA</td>\n",
       "      <td>480.0</td>\n",
       "      <td>2014-06-28</td>\n",
       "      <td>CA</td>\n",
       "      <td>CA</td>\n",
       "      <td>2015-02-06 17:16:16</td>\n",
       "      <td>75.0</td>\n",
       "      <td>NaN</td>\n",
       "      <td>1</td>\n",
       "    </tr>\n",
       "    <tr>\n",
       "      <th>4039</th>\n",
       "      <td>27318791</td>\n",
       "      <td>VIASAT COMMUNICATIONS</td>\n",
       "      <td>NaN</td>\n",
       "      <td>VIASAT COMMUNICATIONS</td>\n",
       "      <td>NaN</td>\n",
       "      <td>360.0</td>\n",
       "      <td>2013-11-12</td>\n",
       "      <td>MS</td>\n",
       "      <td>MS</td>\n",
       "      <td>2013-11-16 07:23:48</td>\n",
       "      <td>10.0</td>\n",
       "      <td>NaN</td>\n",
       "      <td>1</td>\n",
       "    </tr>\n",
       "    <tr>\n",
       "      <th>97065</th>\n",
       "      <td>19863390831</td>\n",
       "      <td>COMCAST CABLE</td>\n",
       "      <td>COLORADO</td>\n",
       "      <td>COMCAST CABLE</td>\n",
       "      <td>COLORADO</td>\n",
       "      <td>420.0</td>\n",
       "      <td>2015-03-25</td>\n",
       "      <td>CO</td>\n",
       "      <td>NJ</td>\n",
       "      <td>2015-04-02 18:18:40</td>\n",
       "      <td>1.0</td>\n",
       "      <td>NaN</td>\n",
       "      <td>1</td>\n",
       "    </tr>\n",
       "  </tbody>\n",
       "</table>\n",
       "</div>"
      ],
      "text/plain": [
       "       merchantidentifier IP_Address_organization IP_Address_Location  \\\n",
       "71214         19956623321      COX COMMUNICATIONS            VIRGINIA   \n",
       "97977         19898491053  CHARTER COMMUNICATIONS            MICHIGAN   \n",
       "96598         19833253333  CHARTER COMMUNICATIONS          CALIFORNIA   \n",
       "4039             27318791   VIASAT COMMUNICATIONS                 NaN   \n",
       "97065         19863390831           COMCAST CABLE            COLORADO   \n",
       "\n",
       "      Pierced_IP_address_organization Pierced_IP_address_location  \\\n",
       "71214              COX COMMUNICATIONS                    VIRGINIA   \n",
       "97977          CHARTER COMMUNICATIONS                    MICHIGAN   \n",
       "96598          CHARTER COMMUNICATIONS                  CALIFORNIA   \n",
       "4039            VIASAT COMMUNICATIONS                         NaN   \n",
       "97065                   COMCAST CABLE                    COLORADO   \n",
       "\n",
       "       timezone_differencefromGMT_using_application_device  \\\n",
       "71214                                              300.0     \n",
       "97977                                              300.0     \n",
       "96598                                              480.0     \n",
       "4039                                               360.0     \n",
       "97065                                              420.0     \n",
       "\n",
       "      date_account_opened state_from_application_address AreaCodeState  \\\n",
       "71214          2015-06-02                             VA            VA   \n",
       "97977          2014-06-06                             MI            MI   \n",
       "96598          2014-06-28                             CA            CA   \n",
       "4039           2013-11-12                             MS            MS   \n",
       "97065          2015-03-25                             CO            NJ   \n",
       "\n",
       "      first_transaction_time  first_transaction_amount dateclosedforfraud  \\\n",
       "71214    2015-07-10 06:39:21                    2525.0                NaN   \n",
       "97977    2014-06-24 08:57:11                      35.0                NaN   \n",
       "96598    2015-02-06 17:16:16                      75.0                NaN   \n",
       "4039     2013-11-16 07:23:48                      10.0                NaN   \n",
       "97065    2015-04-02 18:18:40                       1.0                NaN   \n",
       "\n",
       "       Flag_for_data_with_fraud_outcomes  \n",
       "71214                                  1  \n",
       "97977                                  1  \n",
       "96598                                  1  \n",
       "4039                                   1  \n",
       "97065                                  1  "
      ]
     },
     "execution_count": 111,
     "metadata": {},
     "output_type": "execute_result"
    }
   ],
   "source": [
    "dat.sample(5)"
   ]
  },
  {
   "cell_type": "markdown",
   "metadata": {},
   "source": [
    "## Outcome Variable  \n",
    "\n",
    "We'll create a new indicator specifically identifying an account as closed for fraud only if the following condition holds true: *Flag_for_data_with_fraud_outcomes* == 1 **and** *dateclosedforfraud* is not NULL"
   ]
  },
  {
   "cell_type": "code",
   "execution_count": 112,
   "metadata": {
    "collapsed": false
   },
   "outputs": [],
   "source": [
    "dat['is_fraud'] = np.where(((dat['Flag_for_data_with_fraud_outcomes']==1) & (dat['dateclosedforfraud'].notnull())), 1, 0)"
   ]
  },
  {
   "cell_type": "markdown",
   "metadata": {},
   "source": [
    "For our missing value analysis we only need merchants with accounts opened before July 10, 2015. So let's subset our data to these accounts only. "
   ]
  },
  {
   "cell_type": "code",
   "execution_count": 113,
   "metadata": {
    "collapsed": false
   },
   "outputs": [
    {
     "data": {
      "text/plain": [
       "'2015-07-10 00:27:38'"
      ]
     },
     "execution_count": 113,
     "metadata": {},
     "output_type": "execute_result"
    }
   ],
   "source": [
    "#making sure it's okay to subset using this flag\n",
    "dat[dat['Flag_for_data_with_fraud_outcomes']==0]['first_transaction_time'].min()"
   ]
  },
  {
   "cell_type": "code",
   "execution_count": 114,
   "metadata": {
    "collapsed": true
   },
   "outputs": [],
   "source": [
    "dat_train = dat[dat['Flag_for_data_with_fraud_outcomes']==1]"
   ]
  },
  {
   "cell_type": "markdown",
   "metadata": {},
   "source": [
    "Let's define our *True Positives* as cases identified as fraudulent. What proportion of the data is this?"
   ]
  },
  {
   "cell_type": "code",
   "execution_count": 115,
   "metadata": {
    "collapsed": false
   },
   "outputs": [
    {
     "name": "stdout",
     "output_type": "stream",
     "text": [
      "2.88% accounts from the entire dataset have been closed for fraudulent activity\n"
     ]
    }
   ],
   "source": [
    "print '{:03.2f}% accounts from the entire dataset have been closed for fraudulent activity'.format((dat_train[dat_train['is_fraud']==1].shape[0]/float(dat_train.shape[0]))*100)"
   ]
  },
  {
   "cell_type": "markdown",
   "metadata": {},
   "source": [
    "As is expected in this domain, we have an **imbalanced dataset.** This entails looking into strategies to deal with imabalanced classes such as:  \n",
    "* Synthetic Minority Oversampling  \n",
    "* Cost based penalization  \n",
    "* Weighted decision trees "
   ]
  },
  {
   "cell_type": "markdown",
   "metadata": {},
   "source": [
    "## Missing Values  \n",
    "Before moving forward, let's assess what can be done about missing values in the data."
   ]
  },
  {
   "cell_type": "code",
   "execution_count": 116,
   "metadata": {
    "collapsed": false
   },
   "outputs": [
    {
     "data": {
      "text/plain": [
       "merchantidentifier                                          0\n",
       "IP_Address_organization                                     4\n",
       "IP_Address_Location                                      5445\n",
       "Pierced_IP_address_organization                             4\n",
       "Pierced_IP_address_location                              5436\n",
       "timezone_differencefromGMT_using_application_device      1369\n",
       "date_account_opened                                         0\n",
       "state_from_application_address                              0\n",
       "AreaCodeState                                               0\n",
       "first_transaction_time                                      0\n",
       "first_transaction_amount                                    0\n",
       "dateclosedforfraud                                     127117\n",
       "Flag_for_data_with_fraud_outcomes                           0\n",
       "is_fraud                                                    0\n",
       "dtype: int64"
      ]
     },
     "execution_count": 116,
     "metadata": {},
     "output_type": "execute_result"
    }
   ],
   "source": [
    "dat_train.isnull().sum()"
   ]
  },
  {
   "cell_type": "code",
   "execution_count": 117,
   "metadata": {
    "collapsed": false
   },
   "outputs": [
    {
     "data": {
      "text/html": [
       "<div>\n",
       "<table border=\"1\" class=\"dataframe\">\n",
       "  <thead>\n",
       "    <tr style=\"text-align: right;\">\n",
       "      <th></th>\n",
       "      <th>merchantidentifier</th>\n",
       "      <th>IP_Address_organization</th>\n",
       "      <th>IP_Address_Location</th>\n",
       "      <th>Pierced_IP_address_organization</th>\n",
       "      <th>Pierced_IP_address_location</th>\n",
       "      <th>timezone_differencefromGMT_using_application_device</th>\n",
       "      <th>date_account_opened</th>\n",
       "      <th>state_from_application_address</th>\n",
       "      <th>AreaCodeState</th>\n",
       "      <th>first_transaction_time</th>\n",
       "      <th>first_transaction_amount</th>\n",
       "      <th>dateclosedforfraud</th>\n",
       "      <th>Flag_for_data_with_fraud_outcomes</th>\n",
       "      <th>is_fraud</th>\n",
       "    </tr>\n",
       "  </thead>\n",
       "  <tbody>\n",
       "    <tr>\n",
       "      <th>17046</th>\n",
       "      <td>27719017</td>\n",
       "      <td>NaN</td>\n",
       "      <td>NaN</td>\n",
       "      <td>NaN</td>\n",
       "      <td>NaN</td>\n",
       "      <td>360.0</td>\n",
       "      <td>2013-04-23</td>\n",
       "      <td>IL</td>\n",
       "      <td>IL</td>\n",
       "      <td>2013-04-30 20:03:11</td>\n",
       "      <td>135.69</td>\n",
       "      <td>NaN</td>\n",
       "      <td>1</td>\n",
       "      <td>0</td>\n",
       "    </tr>\n",
       "    <tr>\n",
       "      <th>19120</th>\n",
       "      <td>34677827</td>\n",
       "      <td>NaN</td>\n",
       "      <td>NaN</td>\n",
       "      <td>NaN</td>\n",
       "      <td>NaN</td>\n",
       "      <td>480.0</td>\n",
       "      <td>2013-04-24</td>\n",
       "      <td>WA</td>\n",
       "      <td>WA</td>\n",
       "      <td>2013-04-29 12:17:46</td>\n",
       "      <td>1.00</td>\n",
       "      <td>NaN</td>\n",
       "      <td>1</td>\n",
       "      <td>0</td>\n",
       "    </tr>\n",
       "    <tr>\n",
       "      <th>20992</th>\n",
       "      <td>27067827</td>\n",
       "      <td>NaN</td>\n",
       "      <td>NaN</td>\n",
       "      <td>NaN</td>\n",
       "      <td>NaN</td>\n",
       "      <td>300.0</td>\n",
       "      <td>2013-05-16</td>\n",
       "      <td>NY</td>\n",
       "      <td>NY</td>\n",
       "      <td>2013-06-10 13:45:16</td>\n",
       "      <td>1.00</td>\n",
       "      <td>NaN</td>\n",
       "      <td>1</td>\n",
       "      <td>0</td>\n",
       "    </tr>\n",
       "    <tr>\n",
       "      <th>71403</th>\n",
       "      <td>19985710875</td>\n",
       "      <td>NaN</td>\n",
       "      <td>NaN</td>\n",
       "      <td>NaN</td>\n",
       "      <td>NaN</td>\n",
       "      <td>360.0</td>\n",
       "      <td>2014-08-13</td>\n",
       "      <td>NY</td>\n",
       "      <td>NY</td>\n",
       "      <td>2015-05-22 18:22:12</td>\n",
       "      <td>475.00</td>\n",
       "      <td>NaN</td>\n",
       "      <td>1</td>\n",
       "      <td>0</td>\n",
       "    </tr>\n",
       "  </tbody>\n",
       "</table>\n",
       "</div>"
      ],
      "text/plain": [
       "       merchantidentifier IP_Address_organization IP_Address_Location  \\\n",
       "17046            27719017                     NaN                 NaN   \n",
       "19120            34677827                     NaN                 NaN   \n",
       "20992            27067827                     NaN                 NaN   \n",
       "71403         19985710875                     NaN                 NaN   \n",
       "\n",
       "      Pierced_IP_address_organization Pierced_IP_address_location  \\\n",
       "17046                             NaN                         NaN   \n",
       "19120                             NaN                         NaN   \n",
       "20992                             NaN                         NaN   \n",
       "71403                             NaN                         NaN   \n",
       "\n",
       "       timezone_differencefromGMT_using_application_device  \\\n",
       "17046                                              360.0     \n",
       "19120                                              480.0     \n",
       "20992                                              300.0     \n",
       "71403                                              360.0     \n",
       "\n",
       "      date_account_opened state_from_application_address AreaCodeState  \\\n",
       "17046          2013-04-23                             IL            IL   \n",
       "19120          2013-04-24                             WA            WA   \n",
       "20992          2013-05-16                             NY            NY   \n",
       "71403          2014-08-13                             NY            NY   \n",
       "\n",
       "      first_transaction_time  first_transaction_amount dateclosedforfraud  \\\n",
       "17046    2013-04-30 20:03:11                    135.69                NaN   \n",
       "19120    2013-04-29 12:17:46                      1.00                NaN   \n",
       "20992    2013-06-10 13:45:16                      1.00                NaN   \n",
       "71403    2015-05-22 18:22:12                    475.00                NaN   \n",
       "\n",
       "       Flag_for_data_with_fraud_outcomes  is_fraud  \n",
       "17046                                  1         0  \n",
       "19120                                  1         0  \n",
       "20992                                  1         0  \n",
       "71403                                  1         0  "
      ]
     },
     "execution_count": 117,
     "metadata": {},
     "output_type": "execute_result"
    }
   ],
   "source": [
    "#let's look at IP_Adress_organization\n",
    "dat_train[dat_train.IP_Address_organization.isnull()] \n",
    "#NONE ARE MARKED FOR FRAUD!"
   ]
  },
  {
   "cell_type": "code",
   "execution_count": 118,
   "metadata": {
    "collapsed": false
   },
   "outputs": [
    {
     "data": {
      "text/html": [
       "<div>\n",
       "<table border=\"1\" class=\"dataframe\">\n",
       "  <thead>\n",
       "    <tr style=\"text-align: right;\">\n",
       "      <th></th>\n",
       "      <th>merchantidentifier</th>\n",
       "      <th>IP_Address_organization</th>\n",
       "      <th>IP_Address_Location</th>\n",
       "      <th>Pierced_IP_address_organization</th>\n",
       "      <th>Pierced_IP_address_location</th>\n",
       "      <th>timezone_differencefromGMT_using_application_device</th>\n",
       "      <th>date_account_opened</th>\n",
       "      <th>state_from_application_address</th>\n",
       "      <th>AreaCodeState</th>\n",
       "      <th>first_transaction_time</th>\n",
       "      <th>first_transaction_amount</th>\n",
       "      <th>dateclosedforfraud</th>\n",
       "      <th>Flag_for_data_with_fraud_outcomes</th>\n",
       "      <th>is_fraud</th>\n",
       "    </tr>\n",
       "  </thead>\n",
       "  <tbody>\n",
       "    <tr>\n",
       "      <th>81656</th>\n",
       "      <td>43706539</td>\n",
       "      <td>VERIZON WIRELESS</td>\n",
       "      <td>NaN</td>\n",
       "      <td>VERIZON WIRELESS</td>\n",
       "      <td>NaN</td>\n",
       "      <td>360.0</td>\n",
       "      <td>2013-10-25</td>\n",
       "      <td>TX</td>\n",
       "      <td>TX</td>\n",
       "      <td>2013-11-19 19:04:20</td>\n",
       "      <td>50.00</td>\n",
       "      <td>NaN</td>\n",
       "      <td>1</td>\n",
       "      <td>0</td>\n",
       "    </tr>\n",
       "    <tr>\n",
       "      <th>8671</th>\n",
       "      <td>29032329</td>\n",
       "      <td>T-MOBILE USA</td>\n",
       "      <td>NaN</td>\n",
       "      <td>T-MOBILE USA</td>\n",
       "      <td>NaN</td>\n",
       "      <td>360.0</td>\n",
       "      <td>2013-08-10</td>\n",
       "      <td>IN</td>\n",
       "      <td>IN</td>\n",
       "      <td>2013-08-10 13:07:06</td>\n",
       "      <td>300.00</td>\n",
       "      <td>2013-08-28</td>\n",
       "      <td>1</td>\n",
       "      <td>1</td>\n",
       "    </tr>\n",
       "    <tr>\n",
       "      <th>15829</th>\n",
       "      <td>36796015</td>\n",
       "      <td>HUGHES NETWORK SYSTEMS</td>\n",
       "      <td>NaN</td>\n",
       "      <td>HUGHES NETWORK SYSTEMS</td>\n",
       "      <td>NaN</td>\n",
       "      <td>360.0</td>\n",
       "      <td>2013-08-26</td>\n",
       "      <td>AL</td>\n",
       "      <td>AL</td>\n",
       "      <td>2013-09-07 12:05:54</td>\n",
       "      <td>40.00</td>\n",
       "      <td>NaN</td>\n",
       "      <td>1</td>\n",
       "      <td>0</td>\n",
       "    </tr>\n",
       "    <tr>\n",
       "      <th>55582</th>\n",
       "      <td>40949775</td>\n",
       "      <td>MARRIOTT - IADTC</td>\n",
       "      <td>NaN</td>\n",
       "      <td>MARRIOTT - IADTC</td>\n",
       "      <td>NaN</td>\n",
       "      <td>300.0</td>\n",
       "      <td>2013-07-25</td>\n",
       "      <td>VA</td>\n",
       "      <td>MD</td>\n",
       "      <td>2013-07-29 06:33:10</td>\n",
       "      <td>10.00</td>\n",
       "      <td>2013-07-30</td>\n",
       "      <td>1</td>\n",
       "      <td>1</td>\n",
       "    </tr>\n",
       "    <tr>\n",
       "      <th>16853</th>\n",
       "      <td>29442999</td>\n",
       "      <td>VERIZON WIRELESS</td>\n",
       "      <td>NaN</td>\n",
       "      <td>VERIZON WIRELESS</td>\n",
       "      <td>NaN</td>\n",
       "      <td>360.0</td>\n",
       "      <td>2013-03-14</td>\n",
       "      <td>OK</td>\n",
       "      <td>OK</td>\n",
       "      <td>2013-03-21 09:00:11</td>\n",
       "      <td>0.52</td>\n",
       "      <td>NaN</td>\n",
       "      <td>1</td>\n",
       "      <td>0</td>\n",
       "    </tr>\n",
       "  </tbody>\n",
       "</table>\n",
       "</div>"
      ],
      "text/plain": [
       "       merchantidentifier IP_Address_organization IP_Address_Location  \\\n",
       "81656            43706539        VERIZON WIRELESS                 NaN   \n",
       "8671             29032329            T-MOBILE USA                 NaN   \n",
       "15829            36796015  HUGHES NETWORK SYSTEMS                 NaN   \n",
       "55582            40949775        MARRIOTT - IADTC                 NaN   \n",
       "16853            29442999        VERIZON WIRELESS                 NaN   \n",
       "\n",
       "      Pierced_IP_address_organization Pierced_IP_address_location  \\\n",
       "81656                VERIZON WIRELESS                         NaN   \n",
       "8671                     T-MOBILE USA                         NaN   \n",
       "15829          HUGHES NETWORK SYSTEMS                         NaN   \n",
       "55582                MARRIOTT - IADTC                         NaN   \n",
       "16853                VERIZON WIRELESS                         NaN   \n",
       "\n",
       "       timezone_differencefromGMT_using_application_device  \\\n",
       "81656                                              360.0     \n",
       "8671                                               360.0     \n",
       "15829                                              360.0     \n",
       "55582                                              300.0     \n",
       "16853                                              360.0     \n",
       "\n",
       "      date_account_opened state_from_application_address AreaCodeState  \\\n",
       "81656          2013-10-25                             TX            TX   \n",
       "8671           2013-08-10                             IN            IN   \n",
       "15829          2013-08-26                             AL            AL   \n",
       "55582          2013-07-25                             VA            MD   \n",
       "16853          2013-03-14                             OK            OK   \n",
       "\n",
       "      first_transaction_time  first_transaction_amount dateclosedforfraud  \\\n",
       "81656    2013-11-19 19:04:20                     50.00                NaN   \n",
       "8671     2013-08-10 13:07:06                    300.00         2013-08-28   \n",
       "15829    2013-09-07 12:05:54                     40.00                NaN   \n",
       "55582    2013-07-29 06:33:10                     10.00         2013-07-30   \n",
       "16853    2013-03-21 09:00:11                      0.52                NaN   \n",
       "\n",
       "       Flag_for_data_with_fraud_outcomes  is_fraud  \n",
       "81656                                  1         0  \n",
       "8671                                   1         1  \n",
       "15829                                  1         0  \n",
       "55582                                  1         1  \n",
       "16853                                  1         0  "
      ]
     },
     "execution_count": 118,
     "metadata": {},
     "output_type": "execute_result"
    }
   ],
   "source": [
    "#sample of IP_Address_Location being NULL\n",
    "dat_train[dat_train.IP_Address_Location.isnull()].sample(5)"
   ]
  },
  {
   "cell_type": "code",
   "execution_count": 119,
   "metadata": {
    "collapsed": false
   },
   "outputs": [
    {
     "name": "stdout",
     "output_type": "stream",
     "text": [
      "0.04885% of unknown IP address locations were identified as fraudulent cases\n"
     ]
    }
   ],
   "source": [
    "print '{:03.5f}% of unknown IP address locations were identified as fraudulent cases'.format(dat_train[((dat_train.IP_Address_Location.isnull())&(dat_train.is_fraud==1))].shape[0]/float(dat_train[dat_train.IP_Address_Location.isnull()].shape[0]))"
   ]
  },
  {
   "cell_type": "code",
   "execution_count": 120,
   "metadata": {
    "collapsed": false
   },
   "outputs": [
    {
     "name": "stdout",
     "output_type": "stream",
     "text": [
      "0.04875% of unknown Pierced IP address locations were identified as fraudulent cases\n"
     ]
    }
   ],
   "source": [
    "print '{:03.5f}% of unknown Pierced IP address locations were identified as fraudulent cases'.format(dat_train[((dat_train.Pierced_IP_address_location.isnull())&(dat_train.is_fraud==1))].shape[0]/float(dat_train[dat_train.Pierced_IP_address_location.isnull()].shape[0]))"
   ]
  },
  {
   "cell_type": "code",
   "execution_count": 121,
   "metadata": {
    "collapsed": false
   },
   "outputs": [
    {
     "name": "stdout",
     "output_type": "stream",
     "text": [
      "0.01972% of unknown 'device timezone difference from GMT' records were identified as fraudulent cases\n"
     ]
    }
   ],
   "source": [
    "print '{:03.5f}% of unknown \\'device timezone difference from GMT\\' records were identified as fraudulent cases'.format(dat_train[((dat_train.timezone_differencefromGMT_using_application_device.isnull())&(dat_train.is_fraud==1))].shape[0]/float(dat_train[dat_train.timezone_differencefromGMT_using_application_device.isnull()].shape[0]))"
   ]
  },
  {
   "cell_type": "markdown",
   "metadata": {},
   "source": [
    "Missing IP Addresses, Pierced IPs, or corresponding IP address locations don't seem to be very good predictors of fraudulent cases. Nevertheless, instead of dropping them, it may be wiser to bucket all these NaNs as *Unknown* to be dummied in training later. Let's make these changes in the original dataframe with the non-outcomes data."
   ]
  },
  {
   "cell_type": "code",
   "execution_count": 122,
   "metadata": {
    "collapsed": false
   },
   "outputs": [],
   "source": [
    "dat['IP_Address_organization']=np.where(dat['IP_Address_organization'].isnull(), 'Unknown',dat['IP_Address_organization'])\n",
    "dat['Pierced_IP_address_organization']=np.where(dat['Pierced_IP_address_organization'].isnull(), 'Unknown',dat['Pierced_IP_address_organization'])\n",
    "dat['IP_Address_Location']=np.where(dat['IP_Address_Location'].isnull(), 'Unknown',dat['IP_Address_Location'])\n",
    "dat['Pierced_IP_address_location']=np.where(dat['Pierced_IP_address_location'].isnull(), 'Unknown',dat['Pierced_IP_address_location'])"
   ]
  },
  {
   "cell_type": "markdown",
   "metadata": {},
   "source": [
    "Now, let's split out all the non-outcomes data into a separate test set and save it to a csv file. This is the set of records we want to make our predictions on. "
   ]
  },
  {
   "cell_type": "code",
   "execution_count": 131,
   "metadata": {
    "collapsed": false
   },
   "outputs": [],
   "source": [
    "dat[dat['Flag_for_data_with_fraud_outcomes']==0].to_csv('./../data/test_submit.csv', index=False)"
   ]
  },
  {
   "cell_type": "markdown",
   "metadata": {},
   "source": [
    "And save the remaining dataframe as the final cleaned dataset to be used for further exploration, and model building."
   ]
  },
  {
   "cell_type": "code",
   "execution_count": 132,
   "metadata": {
    "collapsed": true
   },
   "outputs": [],
   "source": [
    "dat[dat['Flag_for_data_with_fraud_outcomes']==1].to_csv('./../data/train.csv', index=False)"
   ]
  },
  {
   "cell_type": "markdown",
   "metadata": {},
   "source": [
    "Next, we move to exploring the data including:  \n",
    "* Outlier analysis  \n",
    "* Feature engineering  \n",
    "* Correlation analysis  \n",
    "* External data considerations  \n",
    "See the Jupyter notebook [Data_Explore.ipynb](./Data_Explore.ipynb)  \n",
    "\n",
    "---"
   ]
  }
 ],
 "metadata": {
  "kernelspec": {
   "display_name": "Python 2",
   "language": "python",
   "name": "python2"
  },
  "language_info": {
   "codemirror_mode": {
    "name": "ipython",
    "version": 2
   },
   "file_extension": ".py",
   "mimetype": "text/x-python",
   "name": "python",
   "nbconvert_exporter": "python",
   "pygments_lexer": "ipython2",
   "version": "2.7.11"
  }
 },
 "nbformat": 4,
 "nbformat_minor": 0
}
