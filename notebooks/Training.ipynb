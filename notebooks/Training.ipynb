{
 "cells": [
  {
   "cell_type": "markdown",
   "metadata": {},
   "source": [
    "# Training Fraud Detection Data"
   ]
  },
  {
   "cell_type": "code",
   "execution_count": 1,
   "metadata": {
    "collapsed": true
   },
   "outputs": [],
   "source": [
    "import pandas as pd\n",
    "import numpy as np\n",
    "from sklearn.tree import DecisionTreeClassifier\n",
    "from sklearn.ensemble import RandomForestClassifier\n",
    "from sklearn.metrics import classification_report\n",
    "from sklearn.metrics import auc\n",
    "from sklearn.cross_validation import train_test_split\n",
    "from sklearn.grid_search import GridSearchCV\n",
    "import imblearn\n",
    "import matplotlib.pyplot as plt\n",
    "import seaborn as sns\n",
    "\n",
    "\n",
    "\n",
    "%matplotlib inline"
   ]
  },
  {
   "cell_type": "markdown",
   "metadata": {},
   "source": [
    "## Prepare Training/Testing Data"
   ]
  },
  {
   "cell_type": "code",
   "execution_count": 12,
   "metadata": {
    "collapsed": true
   },
   "outputs": [],
   "source": [
    "dat = pd.read_csv('./../data/explored.csv')"
   ]
  },
  {
   "cell_type": "code",
   "execution_count": 14,
   "metadata": {
    "collapsed": true
   },
   "outputs": [],
   "source": [
    "final_cols = ['merchantidentifier','first_transaction_amount','time_to_first_txn','loc_hmg_coeff','org_fraud_prevalence','is_fraud']"
   ]
  },
  {
   "cell_type": "code",
   "execution_count": 25,
   "metadata": {
    "collapsed": true
   },
   "outputs": [],
   "source": [
    "dat_sub = dat[final_cols]"
   ]
  },
  {
   "cell_type": "code",
   "execution_count": 34,
   "metadata": {
    "collapsed": false
   },
   "outputs": [],
   "source": [
    "#convert loc_hmg_coeff into a categorical so that the trees traverse each similarity category\n",
    "dat_sub = pd.get_dummies(dat_sub, columns=['loc_hmg_coeff'])"
   ]
  },
  {
   "cell_type": "code",
   "execution_count": 36,
   "metadata": {
    "collapsed": false
   },
   "outputs": [
    {
     "data": {
      "text/html": [
       "<div>\n",
       "<table border=\"1\" class=\"dataframe\">\n",
       "  <thead>\n",
       "    <tr style=\"text-align: right;\">\n",
       "      <th></th>\n",
       "      <th>merchantidentifier</th>\n",
       "      <th>first_transaction_amount</th>\n",
       "      <th>time_to_first_txn</th>\n",
       "      <th>org_fraud_prevalence</th>\n",
       "      <th>is_fraud</th>\n",
       "      <th>loc_hmg_coeff_0.25</th>\n",
       "      <th>loc_hmg_coeff_0.5</th>\n",
       "      <th>loc_hmg_coeff_0.75</th>\n",
       "      <th>loc_hmg_coeff_1.0</th>\n",
       "    </tr>\n",
       "  </thead>\n",
       "  <tbody>\n",
       "    <tr>\n",
       "      <th>41824</th>\n",
       "      <td>38708331</td>\n",
       "      <td>301.24</td>\n",
       "      <td>3</td>\n",
       "      <td>0.024647</td>\n",
       "      <td>0</td>\n",
       "      <td>0.0</td>\n",
       "      <td>0.0</td>\n",
       "      <td>0.0</td>\n",
       "      <td>1.0</td>\n",
       "    </tr>\n",
       "    <tr>\n",
       "      <th>116222</th>\n",
       "      <td>41581539</td>\n",
       "      <td>19.00</td>\n",
       "      <td>2</td>\n",
       "      <td>0.046667</td>\n",
       "      <td>0</td>\n",
       "      <td>0.0</td>\n",
       "      <td>1.0</td>\n",
       "      <td>0.0</td>\n",
       "      <td>0.0</td>\n",
       "    </tr>\n",
       "    <tr>\n",
       "      <th>103663</th>\n",
       "      <td>43394609</td>\n",
       "      <td>19.99</td>\n",
       "      <td>1</td>\n",
       "      <td>0.025276</td>\n",
       "      <td>0</td>\n",
       "      <td>0.0</td>\n",
       "      <td>0.0</td>\n",
       "      <td>0.0</td>\n",
       "      <td>1.0</td>\n",
       "    </tr>\n",
       "  </tbody>\n",
       "</table>\n",
       "</div>"
      ],
      "text/plain": [
       "        merchantidentifier  first_transaction_amount  time_to_first_txn  \\\n",
       "41824             38708331                    301.24                  3   \n",
       "116222            41581539                     19.00                  2   \n",
       "103663            43394609                     19.99                  1   \n",
       "\n",
       "        org_fraud_prevalence  is_fraud  loc_hmg_coeff_0.25  loc_hmg_coeff_0.5  \\\n",
       "41824               0.024647         0                 0.0                0.0   \n",
       "116222              0.046667         0                 0.0                1.0   \n",
       "103663              0.025276         0                 0.0                0.0   \n",
       "\n",
       "        loc_hmg_coeff_0.75  loc_hmg_coeff_1.0  \n",
       "41824                  0.0                1.0  \n",
       "116222                 0.0                0.0  \n",
       "103663                 0.0                1.0  "
      ]
     },
     "execution_count": 36,
     "metadata": {},
     "output_type": "execute_result"
    }
   ],
   "source": [
    "dat_sub.sample(3)"
   ]
  },
  {
   "cell_type": "code",
   "execution_count": 38,
   "metadata": {
    "collapsed": false
   },
   "outputs": [],
   "source": [
    "Xtrain, Xtest, ytrain, ytest = train_test_split(dat_sub[['first_transaction_amount','time_to_first_txn','loc_hmg_coeff_0.25','loc_hmg_coeff_0.5','loc_hmg_coeff_0.75','loc_hmg_coeff_1.0','org_fraud_prevalence']],\n",
    "                                                dat_sub[['is_fraud']], train_size=0.75)"
   ]
  },
  {
   "cell_type": "code",
   "execution_count": 59,
   "metadata": {
    "collapsed": true
   },
   "outputs": [],
   "source": [
    "Xtrain.to_csv('./../data/xtrain.csv', index=False)\n",
    "ytrain.to_csv('./../data/ytrain.csv', index=False)\n",
    "Xtest.to_csv('./../data/xtest.csv', index=False)\n",
    "ytest.to_csv('./../data/ytest.csv', index=False)"
   ]
  },
  {
   "cell_type": "code",
   "execution_count": null,
   "metadata": {
    "collapsed": true
   },
   "outputs": [],
   "source": []
  },
  {
   "cell_type": "code",
   "execution_count": null,
   "metadata": {
    "collapsed": true
   },
   "outputs": [],
   "source": []
  },
  {
   "cell_type": "code",
   "execution_count": null,
   "metadata": {
    "collapsed": true
   },
   "outputs": [],
   "source": []
  },
  {
   "cell_type": "code",
   "execution_count": null,
   "metadata": {
    "collapsed": true
   },
   "outputs": [],
   "source": []
  },
  {
   "cell_type": "code",
   "execution_count": null,
   "metadata": {
    "collapsed": true
   },
   "outputs": [],
   "source": []
  },
  {
   "cell_type": "code",
   "execution_count": null,
   "metadata": {
    "collapsed": true
   },
   "outputs": [],
   "source": []
  },
  {
   "cell_type": "code",
   "execution_count": null,
   "metadata": {
    "collapsed": true
   },
   "outputs": [],
   "source": []
  },
  {
   "cell_type": "code",
   "execution_count": null,
   "metadata": {
    "collapsed": true
   },
   "outputs": [],
   "source": []
  },
  {
   "cell_type": "markdown",
   "metadata": {},
   "source": [
    "## Cost Sensitive Learning  \n",
    "\n",
    "Assigning a high cost to misclassification of the minority class, and trying to minimize the overall cost. Reference: http://statistics.berkeley.edu/sites/default/files/tech-reports/666.pdf"
   ]
  },
  {
   "cell_type": "markdown",
   "metadata": {},
   "source": [
    "We propose two ways to deal with the problem of extreme imbalance, both based on the random Forest\n",
    "(RF) algorithm (Breiman, 2001). One incorporates class weights into the RF classifier, thus making it cost\n",
    "sensitive, and it penalizes misclassifying the minority class. The other combines the sampling technique\n",
    "and the ensemble idea. It down-samples the majority class and grows each tree on a more balanced data\n",
    "set. A majority vote is taken as usual for prediction.  \n",
    "\n",
    "However, similar to most classifiers, RF can also suffer from the curse of learning\n",
    "from an extremely imbalanced training data set. As it is constructed to minimize the overall error rate, it\n",
    "will tend to focus more on the prediction accuracy of the majority class, which often results in poor accuracy\n",
    "for the minority class. To alleviate the problem, we propose two solutions: balanced random forest (BRF)\n",
    "and weighted random forest (WRF)."
   ]
  },
  {
   "cell_type": "markdown",
   "metadata": {},
   "source": [
    "Balanced Random Forest  \n",
    "\n",
    "As recent\n",
    "research shows (e.g., Ling & Li (1998),Kubat & Matwin (1997),Drummond & Holte (2003)), for the tree\n",
    "classifier, artificially making class priors equal either by down-sampling the majority class or over-sampling\n",
    "the minority class is usually more effective with respect to a given performance measurement, and that downsampling\n",
    "seems to have an edge over over-sampling. However, down-sampling the majority class may result\n",
    "in loss of information, as a large part of the majority class is not used. Random forest inspired us to ensemble\n",
    "trees induced from balanced down-sampled data. The Balanced Random Forest (BRF) algorithm is shown\n",
    "below:\n",
    "1. For each iteration in random forest, draw a bootstrap sample from the minority class. Randomly draw\n",
    "the same number of cases, with replacement, from the majority class.\n",
    "2. Induce a classification tree from the data to maximum size, without pruning. The tree is induced with\n",
    "the CART algorithm, with the following modification: At each node, instead of searching through all\n",
    "variables for the optimal split, only search through a set of mtry randomly selected variables.\n",
    "3. Repeat the two steps above for the number of times desired. Aggregate the predictions of the ensemble\n",
    "and make the final prediction."
   ]
  },
  {
   "cell_type": "markdown",
   "metadata": {},
   "source": [
    "Weighted Random Forest  \n",
    "\n",
    "Another approach to make random forest more suitable for learning from extremely imbalanced data follows\n",
    "the idea of cost sensitive learning. Since the RF classifier tends to be biased towards the majority class, we\n",
    "shall place a heavier penalty on misclassifying the minority class. We assign a weight to each class, with the\n",
    "minority class given larger weight (i.e., higher misclassification cost). The class weights are incorporated\n",
    "into the RF algorithm in two places. In the tree induction procedure, class weights are used to weight\n",
    "the Gini criterion for finding splits. In the terminal nodes of each tree, class weights are again taken into\n",
    "consideration. The class prediction of each terminal node is determined by “weighted majority vote”; i.e.,\n",
    "the weighted vote of a class is the weight for that class times the number of cases for that class at the\n",
    "terminal node. The final class prediction for RF is then determined by aggregatting the weighted vote from\n",
    "each individual tree, where the weights are average weights in the terminal nodes. Class weights are an\n",
    "essential tuning parameter to achieve desired performance. The out-of-bag estimate of the accuracy from\n",
    "RF can be used to select weights."
   ]
  },
  {
   "cell_type": "code",
   "execution_count": 3,
   "metadata": {
    "collapsed": false
   },
   "outputs": [
    {
     "data": {
      "text/plain": [
       "array([2, 4, 1])"
      ]
     },
     "execution_count": 3,
     "metadata": {},
     "output_type": "execute_result"
    }
   ],
   "source": [
    "np.bincount(np.array([0,0,1,1,2,1,1]))"
   ]
  },
  {
   "cell_type": "code",
   "execution_count": 4,
   "metadata": {
    "collapsed": true
   },
   "outputs": [],
   "source": [
    "y = [1, 0, 1, 1, 1, 1, 0, 0, 1, 1]"
   ]
  },
  {
   "cell_type": "code",
   "execution_count": 7,
   "metadata": {
    "collapsed": false
   },
   "outputs": [
    {
     "data": {
      "text/plain": [
       "array([ 6, 14])"
      ]
     },
     "execution_count": 7,
     "metadata": {},
     "output_type": "execute_result"
    }
   ],
   "source": [
    "(2*np.bincount(y))"
   ]
  },
  {
   "cell_type": "code",
   "execution_count": 11,
   "metadata": {
    "collapsed": false
   },
   "outputs": [
    {
     "data": {
      "text/plain": [
       "array([ 1.66666667,  0.71428571])"
      ]
     },
     "execution_count": 11,
     "metadata": {},
     "output_type": "execute_result"
    }
   ],
   "source": [
    "10.0/np.array([6,14])"
   ]
  },
  {
   "cell_type": "code",
   "execution_count": null,
   "metadata": {
    "collapsed": true
   },
   "outputs": [],
   "source": []
  }
 ],
 "metadata": {
  "kernelspec": {
   "display_name": "Python 2",
   "language": "python",
   "name": "python2"
  },
  "language_info": {
   "codemirror_mode": {
    "name": "ipython",
    "version": 2
   },
   "file_extension": ".py",
   "mimetype": "text/x-python",
   "name": "python",
   "nbconvert_exporter": "python",
   "pygments_lexer": "ipython2",
   "version": "2.7.11"
  }
 },
 "nbformat": 4,
 "nbformat_minor": 0
}
